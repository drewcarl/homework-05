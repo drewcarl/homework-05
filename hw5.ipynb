{
  "cells": [
    {
      "cell_type": "markdown",
      "metadata": {},
      "source": [
        "---\n",
        "title: Homework 4\n",
        "jupyter: python3\n",
        "---\n",
        "\n",
        "\n",
        "This assignment will continue to use the American Community Survey (ACS) from the US Census.\n",
        "You will need to refer to the documentation to know what the ACS variable names mean. You can find a copy of the codebook in the [Lab 4 folder on Google Drive](https://drive.google.com/drive/u/0/folders/1jkY0mTxBhwOvvCJE_CJ3LWiOr_9V1ojZ)\n"
      ]
    },
    {
      "cell_type": "code",
      "execution_count": 1,
      "metadata": {},
      "outputs": [],
      "source": [
        "import warnings\n",
        "warnings.simplefilter(action='ignore', category=FutureWarning)\n",
        "\n",
        "import pandas as pd\n",
        "import numpy as np\n",
        "import seaborn as sb\n",
        "import matplotlib.pyplot as plt\n",
        "pd.options.mode.chained_assignment = None"
      ]
    },
    {
      "cell_type": "code",
      "execution_count": 2,
      "metadata": {},
      "outputs": [],
      "source": [
        "acs = pd.read_csv(\"./pums_short.csv.gz\")"
      ]
    },
    {
      "cell_type": "markdown",
      "metadata": {},
      "source": [
        "## Question 1: Working with missing data\n",
        "\n",
        "### Q1.a\n",
        "\n",
        "In the previous lab we counted the number of missing values for the `\"RNTP\"` column using"
      ]
    },
    {
      "cell_type": "code",
      "execution_count": 3,
      "metadata": {},
      "outputs": [
        {
          "data": {
            "text/plain": [
              "np.int64(300372)"
            ]
          },
          "execution_count": 3,
          "metadata": {},
          "output_type": "execute_result"
        }
      ],
      "source": [
        "acs[\"RNTP\"].isna().sum() + acs[\"VALP\"].isna().sum()"
      ]
    },
    {
      "cell_type": "code",
      "execution_count": 4,
      "metadata": {},
      "outputs": [
        {
          "name": "stdout",
          "output_type": "stream",
          "text": [
            "276632\n"
          ]
        }
      ],
      "source": [
        "print(len(acs))"
      ]
    },
    {
      "cell_type": "markdown",
      "metadata": {},
      "source": [
        "The sum of the missing values in \"RNTP\" and \"VALP\" are greater than the total number of rows in all of 'acs'."
      ]
    },
    {
      "cell_type": "code",
      "execution_count": 5,
      "metadata": {},
      "outputs": [
        {
          "data": {
            "text/plain": [
              "np.float64(1.0)"
            ]
          },
          "execution_count": 5,
          "metadata": {},
          "output_type": "execute_result"
        }
      ],
      "source": [
        "(acs[\"VALP\"].isna() | acs[\"RNTP\"].isna()).mean()"
      ]
    },
    {
      "cell_type": "code",
      "execution_count": 6,
      "metadata": {},
      "outputs": [
        {
          "name": "stdout",
          "output_type": "stream",
          "text": [
            "178988\n",
            "178988\n"
          ]
        }
      ],
      "source": [
        "owners = acs[acs[\"VALP\"].notna()]\n",
        "\n",
        "print(len(owners))\n",
        "print(acs[\"VALP\"].notna().sum())"
      ]
    },
    {
      "cell_type": "code",
      "execution_count": 7,
      "metadata": {},
      "outputs": [
        {
          "name": "stdout",
          "output_type": "stream",
          "text": [
            "0.01331932867007844\n",
            "75000.0\n"
          ]
        },
        {
          "data": {
            "text/plain": [
              "np.int64(0)"
            ]
          },
          "execution_count": 7,
          "metadata": {},
          "output_type": "execute_result"
        }
      ],
      "source": [
        "proportion_missing_hincp_owners = owners[\"HINCP\"].isna().mean()\n",
        "print(proportion_missing_hincp_owners)\n",
        "\n",
        "median_hincp_owners = owners[\"HINCP\"].median()\n",
        "print(median_hincp_owners)\n",
        "\n",
        "owners[\"HINCP\"].fillna(median_hincp_owners, inplace=True)\n",
        "\n",
        "owners[\"HINCP\"].isna().sum()"
      ]
    },
    {
      "cell_type": "code",
      "execution_count": null,
      "metadata": {},
      "outputs": [
        {
          "name": "stdout",
          "output_type": "stream",
          "text": [
            "73904\n",
            "880.0\n"
          ]
        }
      ],
      "source": [
        "renters = acs[acs[\"RNTP\"].notna()]\n",
        "\n",
        "print(len(renters))\n",
        "\n",
        "median_rntp_renters = renters[\"RNTP\"].median()\n",
        "print(median_rntp_renters)\n",
        "\n",
        "renters[\"HINCP\"].fillna(median_hincp_owners, inplace=True)"
      ]
    },
    {
      "cell_type": "code",
      "execution_count": null,
      "metadata": {},
      "outputs": [
        {
          "data": {
            "text/plain": [
              "(np.float64(103101.59041946946),\n",
              " np.float64(75000.0),\n",
              " np.float64(85100.0),\n",
              " (107811.09305535036+0j))"
            ]
          },
          "execution_count": 9,
          "metadata": {},
          "output_type": "execute_result"
        }
      ],
      "source": [
        "from cmath import sqrt\n",
        "\n",
        "mean_deviations = owners[\"HINCP\"] - owners[\"HINCP\"].mean()\n",
        "owners_variance = mean_deviations.pow(2).mean()\n",
        "\n",
        "\n",
        "owners[\"HINCP\"].mean(),owners[\"HINCP\"].median(),owners[\"HINCP\"].quantile(0.75)- owners[\"HINCP\"].quantile(0.25), sqrt(owners_variance)"
      ]
    },
    {
      "cell_type": "code",
      "execution_count": null,
      "metadata": {},
      "outputs": [
        {
          "name": "stdout",
          "output_type": "stream",
          "text": [
            "Mode of HINCP for owners: HINCP\n",
            "75000.0    3287\n",
            "Name: count, dtype: int64\n",
            "Mode of HINCP for renters: HINCP\n",
            "75000.0    4572\n",
            "Name: count, dtype: int64\n"
          ]
        }
      ],
      "source": [
        "mode_hincp_owners = owners[\"HINCP\"].value_counts().head(1)\n",
        "mode_hincp_renters = renters[\"HINCP\"].value_counts().head(1)\n",
        "\n",
        "print(\"Mode of HINCP for owners:\", mode_hincp_owners)\n",
        "print(\"Mode of HINCP for renters:\", mode_hincp_renters)"
      ]
    },
    {
      "cell_type": "code",
      "execution_count": 11,
      "metadata": {},
      "outputs": [
        {
          "data": {
            "text/plain": [
              "(np.float64(107811.39422510703), np.float64(64591.622417504324))"
            ]
          },
          "execution_count": 11,
          "metadata": {},
          "output_type": "execute_result"
        }
      ],
      "source": [
        "owners[\"HINCP\"].std(), renters[\"HINCP\"].std()"
      ]
    },
    {
      "cell_type": "code",
      "execution_count": 12,
      "metadata": {},
      "outputs": [
        {
          "data": {
            "text/plain": [
              "<Axes: xlabel='NP', ylabel='Count'>"
            ]
          },
          "execution_count": 12,
          "metadata": {},
          "output_type": "execute_result"
        },
        {
          "data": {
            "image/png": "[encoded data removed]",
            "text/plain": [
              "<Figure size 640x480 with 1 Axes>"
            ]
          },
          "metadata": {},
          "output_type": "display_data"
        }
      ],
      "source": [
        "sb.histplot(acs[\"NP\"], bins=20)"
      ]
    },
    {
      "cell_type": "markdown",
      "metadata": {},
      "source": [
        "The location, or the typical value is around 2.0-2.5, and since the graph is skewed to the right, the spread is higher than the location since more values are higher than the median."
      ]
    },
    {
      "cell_type": "code",
      "execution_count": null,
      "metadata": {},
      "outputs": [
        {
          "data": {
            "text/plain": [
              "(np.float64(2.208764712686891),\n",
              " np.float64(2.0),\n",
              " np.float64(2.0),\n",
              " np.float64(1.5263892280571307),\n",
              " 1.129330534996136)"
            ]
          },
          "execution_count": 13,
          "metadata": {},
          "output_type": "execute_result"
        }
      ],
      "source": [
        "acs[\"NP\"].mean(), acs[\"NP\"].median(), acs[\"NP\"].quantile(0.75) - acs[\"NP\"].quantile(0.25), acs[\"NP\"].std(), sum(((acs[\"NP\"] - acs[\"NP\"].mean())**3) / acs[\"NP\"].count() / (acs[\"NP\"].std()**3))"
      ]
    },
    {
      "cell_type": "code",
      "execution_count": 14,
      "metadata": {},
      "outputs": [
        {
          "data": {
            "text/plain": [
              "<Axes: xlabel='NP'>"
            ]
          },
          "execution_count": 14,
          "metadata": {},
          "output_type": "execute_result"
        },
        {
          "data": {
            "image/png": "[encoded data removed]",
            "text/plain": [
              "<Figure size 640x480 with 1 Axes>"
            ]
          },
          "metadata": {},
          "output_type": "display_data"
        },
        {
          "data": {
            "image/png": "[encoded data removed]",
            "text/plain": [
              "<Figure size 640x480 with 1 Axes>"
            ]
          },
          "metadata": {},
          "output_type": "display_data"
        }
      ],
      "source": [
        "plt.figure()\n",
        "sb.boxplot(data=owners, x=\"NP\")\n",
        "plt.figure()\n",
        "sb.boxplot(data=renters, x=\"NP\")\n"
      ]
    },
    {
      "cell_type": "markdown",
      "metadata": {},
      "source": [
        "For the table 'renters', more values of \"NP\" are closer to the mean and within the IQR of the mean. For 'owners', there is many more outliers to the right and most likely has a greater right skew than 'renters' does. While the mean is about the same for both tables, there is greater variance within the 'owners' table."
      ]
    },
    {
      "cell_type": "code",
      "execution_count": null,
      "metadata": {},
      "outputs": [
        {
          "data": {
            "text/plain": [
              "np.float64(0.29652618336162506)"
            ]
          },
          "execution_count": 15,
          "metadata": {},
          "output_type": "execute_result"
        }
      ],
      "source": [
        "o = ((owners[\"NP\"].size - 1 * owners[\"NP\"].std() ** 2).sum())\n",
        "r = ((renters[\"NP\"].size - 1 * renters[\"NP\"].std() ** 2).sum())\n",
        "\n",
        "pooled_std = np.sqrt((o + r) / (owners[\"NP\"].size + renters[\"NP\"].size - 2))\n",
        "\n",
        "pooled_std\n",
        "\n",
        "differnce_in_means = owners[\"NP\"].mean() - renters[\"NP\"].mean() / pooled_std\n",
        "\n",
        "differnce_in_means\n"
      ]
    },
    {
      "cell_type": "markdown",
      "metadata": {},
      "source": [
        "The effect size is medium, so there is a medium size difference between the mean of \"NP\" of owners and \"NP\" or renters."
      ]
    },
    {
      "cell_type": "markdown",
      "metadata": {},
      "source": [
        "Repeat for the `\"VALP\"` column. (If you want, you can compute both totals simultaneously.)\n",
        "\n",
        "Print out the total number of rows in the `acs` table. What do you notice about the total number of rows and the sum of the missing values for these two columns?\n",
        "\n",
        "\n",
        "\n",
        "### Q1.b\n",
        "\n",
        "Write a single line of code that proves that 100% of observations are missing either the `\"VALP\"` or `\"RNTP\"` measurements.\n",
        "\n",
        "\n",
        "### Q1.c\n",
        "\n",
        "The `.dropna()` method has a `subset = ['column1', 'column2']` argument that allows you to indicate which columns your want to use to control how rows are dropped from the result.\n",
        "\n",
        "Create a table called `owners` that only includes households that have non-missing `\"VALP\"` entries. Print out the number of rows in this table and verify it matches the number of observations with *non-missing* `\"VALP\"` entries in `acs`. Hint:"
      ]
    },
    {
      "cell_type": "markdown",
      "metadata": {},
      "source": [
        "### Q1.d\n",
        "\n",
        "Using the `owners` table, what **proportion** of rows are missing `\"HINCP\"` values?\n",
        "\n",
        "Find the median value of the non-missing values (hint: built in Panadas methods automatically drop missing values).\n",
        "\n",
        "Using the `.fillna(VALUE, inplace = TRUE)` method, update the `\"HINCP\"` column of the `owners` table by making any missing values equal to median of the non-missing values.\n",
        "\n",
        "Verify by showing that all of the values are not missing for `\"HINCP\"`.\n",
        "\n",
        "\n",
        "\n",
        "### Q1.e\n",
        "\n",
        "Repeat the above steps to create a table `renters` that contains only rows for people who are renting (have non-missing `RNTP` values) and median impute any missing `HINCP` values.\n",
        "\n",
        "For both `owners` and `renters` compute the following quantities for the \"HINCP\" column.\n",
        "- mean\n",
        "- median\n",
        "- IQR\n",
        "- standard deviation\n",
        "\n",
        "Which group has the higher location values? Which group has more spread? Comment briefly on what this means.\n",
        "\n",
        "\n",
        "## Question 2: More on distributions\n",
        "\n",
        "### Q2.a Distributions of number of people in the household\n",
        "\n",
        "Create a histogram of the number of people in the household (`NP`) for the `acs` data. Use the `bins` argument to create a histogram with 20 bins. Briefly discuss the location, spread, and skew of the distribution.\n",
        "\n",
        "### Q2.b Summaries of `NP`\n",
        "\n",
        "Check your answers to the previous question by computing the mean, median, IQR, standard deviation, quantile skewness using the 0.25 and 0.75 quantile, and the coefficient of skewness of the `NP` column.\n",
        "\n",
        "### Q2.c Comparing conditional distribution of NP for owners and renters\n",
        "\n",
        "Create a side-by-side boxplot of the number of people in the household for owners and renters. What do you notice about the distributions of the number of people in the household for owners and renters?\n",
        "\n",
        "### Q2.d Effect size of the difference in means\n",
        "\n",
        "Compute the effect size of the difference in means of the number of people in the household for owners and renters. Use the formula for Cohen's $d$\n",
        "\n",
        "$$d = \\frac{\\bar X_1 - \\bar X_2}{S_p}$$\n",
        "\n",
        "where $\\bar X_1$ and $\\bar X_2$ are the means of the two groups and $S_p$ is the pooled standard deviation.\n",
        "\n",
        "Using the following table of effect sizes, how would you interpret the effect size of the difference in means of the number of people in the household for owners and renters?\n",
        "\n",
        "| Effect size | Interpretation |\n",
        "|-------------|-----------------|\n",
        "| (0, 0.2]    | Small           |\n",
        "| (0.2, 0.5]  | Medium          |\n",
        "| (0.5, 0.1]  | Large           |\n",
        "| (1, 2]      | Very large      |\n",
        "\n",
        "## Question 3: More on means and medians\n",
        "\n",
        "For this problem, we will investigate some theoretical properties of means and medians.\n",
        "\n",
        "### Q3.a\n",
        "\n",
        "We have already seen that the mean is the unique point $\\bar X$ that makes $\\sum_{i=1}^n (X_i - \\bar X) = 0$. While we didn't introduce it as such, it is also the case that $\\bar X$ is the point that **minimizes** $\\sum_{i=1}^n (X_i - \\bar X)^2$, the sum of squared deviations.\n",
        "\n",
        "Using the `HINCP` column of the `acs` data, demonstrate that the sum of squared deviations from the mean is less than the sum of squared deviations from the median ($\\sum_{i=1}^n (X_i - \\tilde X)^2$).\n",
        "\n",
        "Recall that `x**2` is how we square things in Python.\n"
      ]
    },
    {
      "cell_type": "markdown",
      "metadata": {},
      "source": [
        "Both have the most typical values of 75,000. However, it shows up more in the renters tables for 'HINCP'. Owners has more spread because its standard deviation is higher, meaning the values of 'HINCP' are farther away in owners than they are in renters."
      ]
    },
    {
      "cell_type": "markdown",
      "metadata": {},
      "source": [
        "### Q3.b\n",
        "\n",
        "Now, using $\\bar X$ and $\\tilde X$, compute the **sum of absolute distances**, $\\sum_{i=1}^n | X_i - \\bar X |$ and $\\sum_{i=1}^n |X_i - \\tilde X|$. Recall the `.abs()` method can compute the absolute value of a series."
      ]
    },
    {
      "cell_type": "markdown",
      "metadata": {},
      "source": [
        "### Q3.c\n",
        "\n",
        "While we are not rising to the level of a mathematical proof, what do these result suggest about which type of measure of location would minimize the sum of absolute differences?\n"
      ]
    },
    {
      "cell_type": "code",
      "execution_count": 16,
      "metadata": {},
      "outputs": [
        {
          "name": "stdout",
          "output_type": "stream",
          "text": [
            "2514930676893640.5\n",
            "2693213854216370.0\n"
          ]
        }
      ],
      "source": [
        "\n",
        "mean_hincp = acs[\"HINCP\"].mean()\n",
        "median_hincp = acs[\"HINCP\"].median()\n",
        "\n",
        "sum_squared_deviations_mean = ((acs[\"HINCP\"] - mean_hincp) ** 2).sum()\n",
        "\n",
        "sum_squared_deviations_median = ((acs[\"HINCP\"] - median_hincp) ** 2).sum()\n",
        "\n",
        "print(sum_squared_deviations_mean)\n",
        "print(sum_squared_deviations_median)"
      ]
    },
    {
      "cell_type": "code",
      "execution_count": 18,
      "metadata": {},
      "outputs": [
        {
          "name": "stdout",
          "output_type": "stream",
          "text": [
            "14508223606.0\n",
            "15613409566.75057\n"
          ]
        }
      ],
      "source": [
        "median_abs_distance = (acs[\"HINCP\"] - median_hincp).abs().sum()\n",
        "mean_abs_distance = (acs[\"HINCP\"] - mean_hincp).abs().sum()\n",
        "\n",
        "print(median_abs_distance)\n",
        "print(mean_abs_distance)"
      ]
    },
    {
      "cell_type": "markdown",
      "metadata": {},
      "source": [
        "\n",
        "\n",
        "The results would suggest that it is the median that would minimize the sum of aboslute differences. The sum of absolute differences for the median is smaller than the one for mean, making it a better measure of location for minimzing the sum of absolute differences."
      ]
    }
  ],
  "metadata": {
    "kernelspec": {
      "display_name": "Python 3",
      "language": "python",
      "name": "python3"
    },
    "language_info": {
      "codemirror_mode": {
        "name": "ipython",
        "version": 3
      },
      "file_extension": ".py",
      "mimetype": "text/x-python",
      "name": "python",
      "nbconvert_exporter": "python",
      "pygments_lexer": "ipython3",
      "version": "3.12.1"
    }
  },
  "nbformat": 4,
  "nbformat_minor": 4
}
